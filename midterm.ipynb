{
  "nbformat": 4,
  "nbformat_minor": 0,
  "metadata": {
    "colab": {
      "provenance": []
    },
    "kernelspec": {
      "name": "python3",
      "display_name": "Python 3"
    },
    "language_info": {
      "name": "python"
    }
  },
  "cells": [
    {
      "cell_type": "markdown",
      "source": [
        "1."
      ],
      "metadata": {
        "id": "n0RWfw8vsFuS"
      }
    },
    {
      "cell_type": "code",
      "source": [
        "What can Python do?\n",
        "(A)Python can be used on a server to create web applications.\n",
        "(B)Python can be used alongside software to create workflows.\n",
        "(C)Python can connect to database systems. It can also read and modify files.\n",
        "(D)Python can be used to handle big data and perform complex mathematics."
      ],
      "metadata": {
        "id": "3DqZRVinsHdC"
      },
      "execution_count": null,
      "outputs": []
    },
    {
      "cell_type": "markdown",
      "source": [
        "-answer: (ABCD) https://www.w3schools.com/python/python_intro.asp"
      ],
      "metadata": {
        "id": "TIkFXyA-sc66"
      }
    },
    {
      "cell_type": "code",
      "source": [
        "What can Python do?\n",
        "Python can be used on a server to create web applications.\n",
        "Python can be used alongside software to create workflows.\n",
        "Python can connect to database systems. It can also read and modify files.\n",
        "Python can be used to handle big data and perform complex mathematics.\n",
        "Python can be used for rapid prototyping, or for production-ready software development."
      ],
      "metadata": {
        "id": "7tVZckH4s_p7"
      },
      "execution_count": null,
      "outputs": []
    },
    {
      "cell_type": "markdown",
      "source": [
        "2."
      ],
      "metadata": {
        "id": "NqMRnGRstEPx"
      }
    },
    {
      "cell_type": "code",
      "source": [
        "Python uses __________ to indicate a block of code\n",
        "(A) [] (B){}  (C) ()  (D) indentation"
      ],
      "metadata": {
        "id": "AkW4zkPetO0h"
      },
      "execution_count": null,
      "outputs": []
    },
    {
      "cell_type": "markdown",
      "source": [
        "answer: (D) Indentation https://www.w3schools.com/python/python_syntax.asp"
      ],
      "metadata": {
        "id": "dW_e25OgtT8C"
      }
    },
    {
      "cell_type": "code",
      "source": [
        "Python uses indentation to indicate a block of code."
      ],
      "metadata": {
        "id": "vlGrqZCetZTq"
      },
      "execution_count": null,
      "outputs": []
    },
    {
      "cell_type": "markdown",
      "source": [
        "3."
      ],
      "metadata": {
        "id": "iqrizFDbtej6"
      }
    },
    {
      "cell_type": "code",
      "source": [
        "Python has commenting capability for the purpose of in-code documentation. Comments start with a  __________\n",
        "(A)A  (B) # (C) /  (D)&"
      ],
      "metadata": {
        "id": "yyq1J-jNtf26"
      },
      "execution_count": null,
      "outputs": []
    },
    {
      "cell_type": "markdown",
      "source": [
        "answer: (B) # https://www.w3schools.com/python/python_comments.asp Comments starts with a #, and Python will ignore them."
      ],
      "metadata": {
        "id": "LfSdtJnMtjEL"
      }
    },
    {
      "cell_type": "markdown",
      "source": [
        "4."
      ],
      "metadata": {
        "id": "pAGgMDm_tsQp"
      }
    },
    {
      "cell_type": "code",
      "source": [
        "Unpack a Collection:\n",
        "If you have a collection of values in a list, tuple etc. Python allows you to extract the values into variables. \n",
        "fruits = [\"apple\", \"banana\", \"cherry\"]\n",
        "x, y, z = fruits\n",
        "print(x)\n",
        "What is the output of this code in Python?\n",
        "(A) apple  (B) banana (C) cherry  \n",
        "(D) [\"apple\", \"banana\", \"cherry\"]"
      ],
      "metadata": {
        "id": "r8tMjTM2ttXZ"
      },
      "execution_count": null,
      "outputs": []
    },
    {
      "cell_type": "markdown",
      "source": [
        "answer: (A) apple https://colab.research.google.com/drive/18usjdXx0ZaRxJkfCNaxot44_jnzkph16#scrollTo=rPmUh4i2Ko5-"
      ],
      "metadata": {
        "id": "8WPaiP5tt6HT"
      }
    },
    {
      "cell_type": "markdown",
      "source": [
        "5."
      ],
      "metadata": {
        "id": "GH_eOX8duLs5"
      }
    },
    {
      "cell_type": "code",
      "source": [
        "Which following is the correct way to create a dictionary in Python?\n",
        "   (A) students = { 'name' => 'alice' ;  'score' =>60 }\n",
        "   (B) students = { 'name' = 'alice' ;  'score' =60 }\n",
        "   (C) students = { 'name' : 'alice' ;  'score' : 60 }\n",
        "   (D) students = { 'name' => 'alice' ,  'score' =>60 }\n",
        "   (E) students = { 'name' : 'alice' , 'score' : 60 }"
      ],
      "metadata": {
        "id": "5xZ9Rir-uM57"
      },
      "execution_count": null,
      "outputs": []
    },
    {
      "cell_type": "markdown",
      "source": [
        "answer: (E) students = { 'name' : 'alice' , 'score' : 60 }"
      ],
      "metadata": {
        "id": "vmOj2QZauQXa"
      }
    },
    {
      "cell_type": "markdown",
      "source": [
        "6."
      ],
      "metadata": {
        "id": "rUWxPZx-uZiK"
      }
    },
    {
      "cell_type": "code",
      "source": [
        "What is the output of this code in Python?\n",
        "\n",
        "x = 5\n",
        "y = \"John\"\n",
        "print(x + y) \n",
        "\n",
        "(A)\t5 John  (B) 5 + John  (C) John (D) Python will give you an error"
      ],
      "metadata": {
        "id": "Taj0kIEDubDb"
      },
      "execution_count": null,
      "outputs": []
    },
    {
      "cell_type": "markdown",
      "source": [
        "answer: (A) 5 John"
      ],
      "metadata": {
        "id": "BbFvRQd4uhAS"
      }
    },
    {
      "cell_type": "markdown",
      "source": [
        "7."
      ],
      "metadata": {
        "id": "z4C6PK_XulhE"
      }
    },
    {
      "cell_type": "code",
      "source": [
        "Which one of the following outputs is wrong? (A)13//5 output: 2.6 (B) 13/5 output: 2.6 (C)13%5 output:3\n",
        "(D)y = int(2.8) output:2"
      ],
      "metadata": {
        "id": "iGlq3gWzumq6"
      },
      "execution_count": null,
      "outputs": []
    },
    {
      "cell_type": "markdown",
      "source": [
        " answer: (A)13//5  output: 2.6"
      ],
      "metadata": {
        "id": "veAWwICHuuMB"
      }
    },
    {
      "cell_type": "markdown",
      "source": [
        "8."
      ],
      "metadata": {
        "id": "SDpWHb44uzHL"
      }
    },
    {
      "cell_type": "code",
      "source": [
        "What does the following Python program fragment do?\n",
        "   s=0\n",
        "   for i in range (3 , 11) :\n",
        "        s+=i\n",
        "   print (s)\n",
        "   (A) Calculate the sum of 1+2+…+10\n",
        "   (B) Calculate the sum of 1+4+7+10\n",
        "   (C) Calculate the sum of 3+4+5+6+…+9\n",
        "   (D) Calculate the sum of 3+4+5+6+…+10\n",
        "   (E) Calculate the sum of 0+2+4+6+…+10"
      ],
      "metadata": {
        "id": "3A1wWRiMu1kL"
      },
      "execution_count": null,
      "outputs": []
    },
    {
      "cell_type": "markdown",
      "source": [
        "answer: (D) Calculate the sum of 3+4+5+6+…+10"
      ],
      "metadata": {
        "id": "x91gwn0uu5ki"
      }
    },
    {
      "cell_type": "code",
      "source": [
        "Output: 52 "
      ],
      "metadata": {
        "id": "n5JzO7rTvG8Z"
      },
      "execution_count": null,
      "outputs": []
    },
    {
      "cell_type": "markdown",
      "source": [
        "9."
      ],
      "metadata": {
        "id": "-0DkQGLGvLDb"
      }
    },
    {
      "cell_type": "code",
      "source": [
        "What is the output of this code in Python?\n",
        "\n",
        "a = \"Hello, World!\"\n",
        "print(a[2:5]+ a[3:8]) \n",
        "\n",
        "(A)  W llolo,\n",
        "(B)  llolo,Wo\n",
        "(C)  llolo, W\n",
        "(D)  llolo,Wor"
      ],
      "metadata": {
        "id": "urUiF-R9vMbr"
      },
      "execution_count": null,
      "outputs": []
    },
    {
      "cell_type": "markdown",
      "source": [
        "answer: (C) llolo, W"
      ],
      "metadata": {
        "id": "VrkJJxpFvP06"
      }
    },
    {
      "cell_type": "markdown",
      "source": [
        "10."
      ],
      "metadata": {
        "id": "nVJixGkIvS5a"
      }
    },
    {
      "cell_type": "code",
      "source": [
        "Which function can returns the length of a string?\n",
        "a = \"Hello, Pythonian!\"\n",
        "print(_________)\n",
        "(A) len(a)  (B) length(a)   (C) count(a)  (D)  num(a)"
      ],
      "metadata": {
        "id": "qBlmyOF8vT-8"
      },
      "execution_count": null,
      "outputs": []
    },
    {
      "cell_type": "markdown",
      "source": [
        "answer: (A) len(a)"
      ],
      "metadata": {
        "id": "M6AwBHinvWq6"
      }
    },
    {
      "cell_type": "markdown",
      "source": [
        "11."
      ],
      "metadata": {
        "id": "3-dpqfKOvs55"
      }
    },
    {
      "cell_type": "code",
      "source": [
        "What is the output of this code in Python?\n",
        "      list = [ ' a ' ,  ' b ' ,  ' c ' ,  ' d ' ,  ' e ' ]\n",
        "      print (list [ 1 : ])\n",
        "   (A) [ ]\n",
        "   (B) [ 'b' ]\n",
        "   (C) [ 'a' ,  'b' ]\n",
        "   (D) [ 'b' ,  'c' ,  'd' ,  'e' ]"
      ],
      "metadata": {
        "id": "wJLXmk3fvuSq"
      },
      "execution_count": null,
      "outputs": []
    },
    {
      "cell_type": "markdown",
      "source": [
        "answer: (D) [ 'b' , 'c' , 'd' , 'e' ] `"
      ],
      "metadata": {
        "id": "G31HZYNqwDHa"
      }
    },
    {
      "cell_type": "markdown",
      "source": [
        "12."
      ],
      "metadata": {
        "id": "FwrSZVsjwKDr"
      }
    },
    {
      "cell_type": "code",
      "source": [
        "What is the output of this code in Python?\n",
        "        L1 = [ ]\n",
        "        L1.append ( [1, [2, 3], 4] )\n",
        "        L1.extend ( [7, 8, 9] )\n",
        "        print(L1[0][1][1] + L1[2] )\n",
        "   (A) 3  (B) 8  (C) 11  (D) 38  (E) None of these"
      ],
      "metadata": {
        "id": "lGBu1xpcwMti"
      },
      "execution_count": null,
      "outputs": []
    },
    {
      "cell_type": "markdown",
      "source": [
        "answer: (C) 11"
      ],
      "metadata": {
        "id": "cyMM1_cCwT9C"
      }
    },
    {
      "cell_type": "markdown",
      "source": [
        "13."
      ],
      "metadata": {
        "id": "wEk4TQHlwXFp"
      }
    },
    {
      "cell_type": "code",
      "source": [
        "Check if \"free\" is present in the following text:\n",
        "\n",
        "txt = \"The best things in life are free!\"\n",
        "print(\"free\" ______ txt)\n",
        "\n",
        "Which is the correct answer?\n",
        "(A) on (B) with (C) at  (D) in"
      ],
      "metadata": {
        "id": "o4_ew0sMwYCK"
      },
      "execution_count": null,
      "outputs": []
    },
    {
      "cell_type": "markdown",
      "source": [
        "answer: (D) in"
      ],
      "metadata": {
        "id": "XfPw63QTwcRD"
      }
    },
    {
      "cell_type": "markdown",
      "source": [
        "14."
      ],
      "metadata": {
        "id": "-Q8DaPTIwecq"
      }
    },
    {
      "cell_type": "code",
      "source": [
        "Which of the following conditions correctly describes the output of this code in  Python?\n",
        "         first = [1 , 2 , 3 , 4 , 5]\n",
        "         second = first\n",
        "         second.append (6)\n",
        "         print (first)\n",
        "         print (second)\n",
        "   (A) first=[1, 2, 3, 4, 5], second=[1, 2, 3, 4, 5, 6]\n",
        "   (B) first=[1, 2, 3, 4, 5, 6], second=[1, 2, 3, 4, 5]\n",
        "   (C) first=[1, 2, 3, 4, 5], second=[1, 2, 3, 4, 5]\n",
        "   (D) first=[1, 2, 3, 4, 5, 6], second=[1, 2, 3, 4, 5, 6]\n",
        "   (E) None of these"
      ],
      "metadata": {
        "id": "Ni47CS7pwf9h"
      },
      "execution_count": null,
      "outputs": []
    },
    {
      "cell_type": "markdown",
      "source": [
        "answer: (D) first=[1, 2, 3, 4, 5, 6], second=[1, 2, 3, 4, 5, 6]"
      ],
      "metadata": {
        "id": "ml5BbZqKwmH6"
      }
    },
    {
      "cell_type": "markdown",
      "source": [],
      "metadata": {
        "id": "KqNMZ_4_xl13"
      }
    },
    {
      "cell_type": "markdown",
      "source": [
        "15."
      ],
      "metadata": {
        "id": "kVeRgBdowqWg"
      }
    },
    {
      "cell_type": "code",
      "source": [
        "Python has a set of built-in methods that you can use on strings. \n",
        "Which method can converts string into lower case ?\n",
        "(A)capitalize()     (B) casefold()     (C) lower()  \n",
        "(D)expandtabs()"
      ],
      "metadata": {
        "id": "jGryAmIkwsUR"
      },
      "execution_count": null,
      "outputs": []
    },
    {
      "cell_type": "markdown",
      "source": [
        "answer: (C) lower() https://www.w3schools.com/python/python_strings_modify.asp"
      ],
      "metadata": {
        "id": "kOwWrKdDwv_q"
      }
    },
    {
      "cell_type": "markdown",
      "source": [
        "16."
      ],
      "metadata": {
        "id": "HLQ4oBBqw0zi"
      }
    },
    {
      "cell_type": "code",
      "source": [
        "Python Booleans\n",
        "Which one of the following statements is wrong?\n",
        "(A) Booleans represent one of two values: True or False. \n",
        "(B) The bool() function allows you to evaluate any value, and give you True or False in return, \n",
        "(C) print(10 > 9) will output True  \n",
        "(D) print(10 = 9) will output True"
      ],
      "metadata": {
        "id": "Y7j2U61Sw21a"
      },
      "execution_count": null,
      "outputs": []
    },
    {
      "cell_type": "markdown",
      "source": [
        "answer: (D) print(10 = 9) will output True https://www.w3schools.com/python/python_booleans.asp"
      ],
      "metadata": {
        "id": "5-o6s73sxr33"
      }
    },
    {
      "cell_type": "markdown",
      "source": [
        "17."
      ],
      "metadata": {
        "id": "WGv0498wyGvY"
      }
    },
    {
      "cell_type": "code",
      "source": [
        "Python Lists \n",
        "Which of the following statements is wrong?\n",
        "(A) Lists are used to store multiple items in a single variable.\n",
        "(B) Lists are created using square brackets \n",
        "(C) List items are ordered, changeable, and allow duplicate values. \n",
        "(D) Lists can not have items with the same value"
      ],
      "metadata": {
        "id": "NtrySe9VyIky"
      },
      "execution_count": null,
      "outputs": []
    },
    {
      "cell_type": "markdown",
      "source": [
        "answer: (D) Lists can not have items with the same value https://www.w3schools.com/python/python_lists.asp"
      ],
      "metadata": {
        "id": "Tah3yOH-yMVn"
      }
    },
    {
      "cell_type": "markdown",
      "source": [
        "18."
      ],
      "metadata": {
        "id": "HlHIMMDkyPhg"
      }
    },
    {
      "cell_type": "code",
      "source": [
        "Which one of the codes will output\n",
        "['apple', 'orange', 'banana', 'cherry']  ?\n",
        "\n",
        "mylist = [\"apple\", \"banana\", \"cherry\"]\n",
        "_____________________\n",
        "print(mylist)\n",
        "\n",
        "(A)mylist.append(\"orange\")\n",
        "(B)mylist.insert(0, \"orange\")\n",
        "(C)mylist.insert(1, \"orange\")   \n",
        "(D)mylist.insert(2, \"orange\")"
      ],
      "metadata": {
        "id": "fGevWilryRq4"
      },
      "execution_count": null,
      "outputs": []
    },
    {
      "cell_type": "markdown",
      "source": [
        "answer: (C)mylist.insert(1, \"orange\")"
      ],
      "metadata": {
        "id": "9d2e-oTuysZ3"
      }
    },
    {
      "cell_type": "markdown",
      "source": [
        "19."
      ],
      "metadata": {
        "id": "IQ7jVKoByyhI"
      }
    },
    {
      "cell_type": "code",
      "source": [
        "Python has a set of built-in methods that you can use on dictionaries. Which statements are correct ?\n",
        "(A) clear() will removes all the elements from the dictionary\n",
        "(B) copy() will returns a copy of the dictionary \n",
        "(C) items() will returns a list containing a tuple for each key value pair  \n",
        "(D) popitem()\twill removes the last inserted key-value pair"
      ],
      "metadata": {
        "id": "60rMA0Bay0jR"
      },
      "execution_count": null,
      "outputs": []
    },
    {
      "cell_type": "markdown",
      "source": [
        "answer: https://www.w3schools.com/python/python_dictionaries.asp (C) items() will returns a list containing a tuple for each key value pair"
      ],
      "metadata": {
        "id": "5WFpblRny4DQ"
      }
    },
    {
      "cell_type": "markdown",
      "source": [
        "20."
      ],
      "metadata": {
        "id": "gZdzH5C0y8b3"
      }
    },
    {
      "cell_type": "code",
      "source": [
        "Python supports the usual logical conditions from mathematics:\n",
        "Which statements are correct ?\n",
        "(A)Equals: a = b\n",
        "(B)Not Equals: a != b\n",
        "(C)Less than or equal to: a <= b\n",
        "(D)Greater than: a > b"
      ],
      "metadata": {
        "id": "RlNRRd8Dy9sw"
      },
      "execution_count": null,
      "outputs": []
    },
    {
      "cell_type": "markdown",
      "source": [
        "answer: (BCD) https://www.w3schools.com/python/python_operators.asp"
      ],
      "metadata": {
        "id": "GEWaP6PRzBZi"
      }
    },
    {
      "cell_type": "markdown",
      "source": [
        "21."
      ],
      "metadata": {
        "id": "4D3t1Ee9zOYo"
      }
    },
    {
      "cell_type": "code",
      "source": [
        "What is the output of this code in Python?\n",
        "\n",
        "i = 1\n",
        "while i < 6:\n",
        "  print(i)\n",
        "  if (i == 3):\n",
        "    break\n",
        "  i += 1"
      ],
      "metadata": {
        "id": "z_5IFGXvzrx4"
      },
      "execution_count": null,
      "outputs": []
    },
    {
      "cell_type": "markdown",
      "source": [
        "answer: (A) 1 2 3"
      ],
      "metadata": {
        "id": "lofhX_83zuZW"
      }
    },
    {
      "cell_type": "markdown",
      "source": [
        "22."
      ],
      "metadata": {
        "id": "weueBw3azxlG"
      }
    },
    {
      "cell_type": "code",
      "source": [
        "What is the output of this code in Python?\n",
        "i = 0\n",
        "while i < 6:\n",
        "  i += 1\n",
        "  if i == 3:\n",
        "    continue\n",
        "  print(i)"
      ],
      "metadata": {
        "id": "Ie5YwPx8zyqI"
      },
      "execution_count": null,
      "outputs": []
    },
    {
      "cell_type": "markdown",
      "source": [
        "answer: (C) 1 2 3 4 5 6"
      ],
      "metadata": {
        "id": "GNaXo0d7z2HB"
      }
    },
    {
      "cell_type": "markdown",
      "source": [
        "23."
      ],
      "metadata": {
        "id": "TT3VafOb0ELg"
      }
    },
    {
      "cell_type": "code",
      "source": [
        "If the function \n",
        "int volume (int x = 1, int y = 1, int z = 1); \n",
        "is called by the expression volume (7,8), how many default arguments are used?\n",
        "(A) None  (B) One  (C) Two  (D) Three\n",
        "(E) It depends on the runtime environment."
      ],
      "metadata": {
        "id": "i8LijlHd0FXJ"
      },
      "execution_count": null,
      "outputs": []
    },
    {
      "cell_type": "markdown",
      "source": [
        "answer: (C) Two https://www.w3schools.com/python/python_functions.asp"
      ],
      "metadata": {
        "id": "pbQZb-Gq0Io4"
      }
    },
    {
      "cell_type": "markdown",
      "source": [
        "24."
      ],
      "metadata": {
        "id": "JX2bEEVN0iAv"
      }
    },
    {
      "cell_type": "code",
      "source": [
        "What is the output of this code in python?\n",
        "        r = lambda q: q * 2\n",
        "        s = lambda q: q * 3\n",
        "        x = 2\n",
        "        x = r (x)\n",
        "        x = s (x)\n",
        "        x = r (x)\n",
        "        print (x)\n",
        "   (A) 2  (B) 4  (C) 6  (D) 12  (E) 24"
      ],
      "metadata": {
        "id": "jDj7epFv0i6h"
      },
      "execution_count": null,
      "outputs": []
    },
    {
      "cell_type": "markdown",
      "source": [
        "answer: (E) 24"
      ],
      "metadata": {
        "id": "z1HdQ3sZ0j2Z"
      }
    },
    {
      "cell_type": "markdown",
      "source": [
        "25."
      ],
      "metadata": {
        "id": "vZ1hPNPE0mif"
      }
    },
    {
      "cell_type": "code",
      "source": [
        "A recursive function is defined as below:\n",
        "def tri_recursion(k):\n",
        "  if(k > 0):\n",
        "    result = k + tri_recursion(k - 1)\n",
        "    print(result)\n",
        "  else:\n",
        "    result = 0\n",
        "  return result\n",
        "\n",
        "What Is The Last Line Of The Output When tri_recursion(6) is executed? \n",
        "   (A) 6  (B) 10  (C) 15  (D) 21  (E) 28"
      ],
      "metadata": {
        "id": "e8c82LRQ0n0h"
      },
      "execution_count": null,
      "outputs": []
    },
    {
      "cell_type": "markdown",
      "source": [
        "answer: (D) 21"
      ],
      "metadata": {
        "id": "q-0Gn1CY0q2g"
      }
    }
  ]
}
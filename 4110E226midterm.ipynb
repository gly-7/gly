{
  "nbformat": 4,
  "nbformat_minor": 0,
  "metadata": {
    "colab": {
      "provenance": []
    },
    "kernelspec": {
      "name": "python3",
      "display_name": "Python 3"
    },
    "language_info": {
      "name": "python"
    }
  },
  "cells": [
    {
      "cell_type": "markdown",
      "source": [
        "## **4**"
      ],
      "metadata": {
        "id": "c76iS8GEhaBA"
      }
    },
    {
      "cell_type": "markdown",
      "source": [
        "**Answer: (A) apple**"
      ],
      "metadata": {
        "id": "AMNaiM6cibjh"
      }
    },
    {
      "cell_type": "code",
      "execution_count": 1,
      "metadata": {
        "colab": {
          "base_uri": "https://localhost:8080/"
        },
        "id": "0BK9MVa7hQby",
        "outputId": "275f9a3e-3fa5-4dea-83cb-d11c483fd420"
      },
      "outputs": [
        {
          "output_type": "stream",
          "name": "stdout",
          "text": [
            "apple\n"
          ]
        }
      ],
      "source": [
        "fruits = [\"apple\", \"banana\", \"cherry\"]\n",
        "x, y, z = fruits\n",
        "print(x)"
      ]
    },
    {
      "cell_type": "markdown",
      "source": [
        "# **5**"
      ],
      "metadata": {
        "id": "N3oz7ZHrjWx5"
      }
    },
    {
      "cell_type": "markdown",
      "source": [
        "**Answer: (E) students = { 'name' : 'alice' , 'score' : 60 }**"
      ],
      "metadata": {
        "id": "3liP75iTjZPH"
      }
    },
    {
      "cell_type": "code",
      "source": [
        "students = { 'name' => 'alice' ;  'score' =>60 }"
      ],
      "metadata": {
        "colab": {
          "base_uri": "https://localhost:8080/",
          "height": 130
        },
        "id": "jIg00JzFjeP-",
        "outputId": "88b5db17-acfe-4bb4-daee-ebcdd831bb67"
      },
      "execution_count": 2,
      "outputs": [
        {
          "output_type": "error",
          "ename": "SyntaxError",
          "evalue": "ignored",
          "traceback": [
            "\u001b[0;36m  File \u001b[0;32m\"<ipython-input-2-ed12b19b76b9>\"\u001b[0;36m, line \u001b[0;32m1\u001b[0m\n\u001b[0;31m    students = { 'name' => 'alice' ;  'score' =>60 }\u001b[0m\n\u001b[0m                        ^\u001b[0m\n\u001b[0;31mSyntaxError\u001b[0m\u001b[0;31m:\u001b[0m invalid syntax\n"
          ]
        }
      ]
    },
    {
      "cell_type": "code",
      "source": [
        "students = { 'name' = 'alice' ;  'score' =60 }"
      ],
      "metadata": {
        "colab": {
          "base_uri": "https://localhost:8080/",
          "height": 130
        },
        "id": "3K2Y2XeMjnMJ",
        "outputId": "f6af7265-4e20-4d24-8f04-a73b70492ed5"
      },
      "execution_count": 3,
      "outputs": [
        {
          "output_type": "error",
          "ename": "SyntaxError",
          "evalue": "ignored",
          "traceback": [
            "\u001b[0;36m  File \u001b[0;32m\"<ipython-input-3-2b6d7142b302>\"\u001b[0;36m, line \u001b[0;32m1\u001b[0m\n\u001b[0;31m    students = { 'name' = 'alice' ;  'score' =60 }\u001b[0m\n\u001b[0m                        ^\u001b[0m\n\u001b[0;31mSyntaxError\u001b[0m\u001b[0;31m:\u001b[0m invalid syntax\n"
          ]
        }
      ]
    },
    {
      "cell_type": "code",
      "source": [
        "students = { 'name' : 'alice' ;  'score' : 60 }"
      ],
      "metadata": {
        "colab": {
          "base_uri": "https://localhost:8080/",
          "height": 130
        },
        "id": "A7IU9T6AjrQI",
        "outputId": "dc2bb87a-fbc2-4c1a-9463-cb3d85146f19"
      },
      "execution_count": 4,
      "outputs": [
        {
          "output_type": "error",
          "ename": "SyntaxError",
          "evalue": "ignored",
          "traceback": [
            "\u001b[0;36m  File \u001b[0;32m\"<ipython-input-4-a6c06425b6ca>\"\u001b[0;36m, line \u001b[0;32m1\u001b[0m\n\u001b[0;31m    students = { 'name' : 'alice' ;  'score' : 60 }\u001b[0m\n\u001b[0m                                  ^\u001b[0m\n\u001b[0;31mSyntaxError\u001b[0m\u001b[0;31m:\u001b[0m invalid syntax\n"
          ]
        }
      ]
    },
    {
      "cell_type": "code",
      "source": [
        "students = { 'name' : 'alice' ;  'score' : 60 }"
      ],
      "metadata": {
        "colab": {
          "base_uri": "https://localhost:8080/",
          "height": 130
        },
        "id": "2Qw9sKxzjw0Q",
        "outputId": "4d81a8bf-ff35-4a76-d017-6592d273ff28"
      },
      "execution_count": 5,
      "outputs": [
        {
          "output_type": "error",
          "ename": "SyntaxError",
          "evalue": "ignored",
          "traceback": [
            "\u001b[0;36m  File \u001b[0;32m\"<ipython-input-5-a6c06425b6ca>\"\u001b[0;36m, line \u001b[0;32m1\u001b[0m\n\u001b[0;31m    students = { 'name' : 'alice' ;  'score' : 60 }\u001b[0m\n\u001b[0m                                  ^\u001b[0m\n\u001b[0;31mSyntaxError\u001b[0m\u001b[0;31m:\u001b[0m invalid syntax\n"
          ]
        }
      ]
    },
    {
      "cell_type": "code",
      "source": [
        "students = { 'name' : 'alice' , 'score' : 60 }"
      ],
      "metadata": {
        "id": "DcRJeV3PjyRX"
      },
      "execution_count": 6,
      "outputs": []
    },
    {
      "cell_type": "markdown",
      "source": [
        "## **6**"
      ],
      "metadata": {
        "id": "AyNk3KEJj5hC"
      }
    },
    {
      "cell_type": "markdown",
      "source": [
        "**Answer: (D) Python will give you an error**"
      ],
      "metadata": {
        "id": "-MsUft7rkI5u"
      }
    },
    {
      "cell_type": "code",
      "source": [
        "Answer: (D) Python will give you an error"
      ],
      "metadata": {
        "colab": {
          "base_uri": "https://localhost:8080/",
          "height": 130
        },
        "id": "BKcqxniWkLe3",
        "outputId": "05dbfe20-6800-4679-be76-868b5c361dd5"
      },
      "execution_count": 7,
      "outputs": [
        {
          "output_type": "error",
          "ename": "SyntaxError",
          "evalue": "ignored",
          "traceback": [
            "\u001b[0;36m  File \u001b[0;32m\"<ipython-input-7-9035dd93fea1>\"\u001b[0;36m, line \u001b[0;32m1\u001b[0m\n\u001b[0;31m    Answer: (D) Python will give you an error\u001b[0m\n\u001b[0m                     ^\u001b[0m\n\u001b[0;31mSyntaxError\u001b[0m\u001b[0;31m:\u001b[0m invalid syntax\n"
          ]
        }
      ]
    },
    {
      "cell_type": "markdown",
      "source": [
        "# **7**"
      ],
      "metadata": {
        "id": "RHFQ5p7okmYo"
      }
    },
    {
      "cell_type": "markdown",
      "source": [
        "**Answer: (A) 13//5 output: 2.6**"
      ],
      "metadata": {
        "id": "4gsZ_R7ekoC3"
      }
    },
    {
      "cell_type": "code",
      "source": [
        "13//5"
      ],
      "metadata": {
        "colab": {
          "base_uri": "https://localhost:8080/"
        },
        "id": "-grgcZb5ksT9",
        "outputId": "220d39af-0723-48c6-dd93-2e1d8d089ab9"
      },
      "execution_count": 8,
      "outputs": [
        {
          "output_type": "execute_result",
          "data": {
            "text/plain": [
              "2"
            ]
          },
          "metadata": {},
          "execution_count": 8
        }
      ]
    },
    {
      "cell_type": "code",
      "source": [
        "13/5"
      ],
      "metadata": {
        "colab": {
          "base_uri": "https://localhost:8080/"
        },
        "id": "ZKaO5iKpkvQY",
        "outputId": "5facdf72-18f7-4c9d-fc5e-7dc239735773"
      },
      "execution_count": 9,
      "outputs": [
        {
          "output_type": "execute_result",
          "data": {
            "text/plain": [
              "2.6"
            ]
          },
          "metadata": {},
          "execution_count": 9
        }
      ]
    },
    {
      "cell_type": "code",
      "source": [
        "13%5"
      ],
      "metadata": {
        "colab": {
          "base_uri": "https://localhost:8080/"
        },
        "id": "n9wCN_Y0kx03",
        "outputId": "f7632a33-9571-4eb3-c3cb-fa18c9a8c1e8"
      },
      "execution_count": 10,
      "outputs": [
        {
          "output_type": "execute_result",
          "data": {
            "text/plain": [
              "3"
            ]
          },
          "metadata": {},
          "execution_count": 10
        }
      ]
    },
    {
      "cell_type": "code",
      "source": [
        "y = int(2.8)\n",
        "print(y)"
      ],
      "metadata": {
        "colab": {
          "base_uri": "https://localhost:8080/"
        },
        "id": "z7Vu89Q_k0Dw",
        "outputId": "1b160b9b-6a14-488f-8540-8a8dff15de7b"
      },
      "execution_count": 11,
      "outputs": [
        {
          "output_type": "stream",
          "name": "stdout",
          "text": [
            "2\n"
          ]
        }
      ]
    },
    {
      "cell_type": "markdown",
      "source": [
        "# **8**"
      ],
      "metadata": {
        "id": "0VlJNBHBk3BZ"
      }
    },
    {
      "cell_type": "markdown",
      "source": [
        "**Answer: (D) Calculate the sum of 3+4+5+6+…+10**"
      ],
      "metadata": {
        "id": "FW9ZKEdEk4wA"
      }
    },
    {
      "cell_type": "code",
      "source": [
        "s=0\n",
        "for i in range (3 , 11):\n",
        "      s+=i\n",
        "print(s)\n",
        "#Calculate the sum of 3+4+5+6+…+10"
      ],
      "metadata": {
        "colab": {
          "base_uri": "https://localhost:8080/"
        },
        "id": "eHjSuWOXk_X6",
        "outputId": "872c81be-96ff-4044-a055-66f21a4630a2"
      },
      "execution_count": 12,
      "outputs": [
        {
          "output_type": "stream",
          "name": "stdout",
          "text": [
            "52\n"
          ]
        }
      ]
    },
    {
      "cell_type": "markdown",
      "source": [
        "# **9**"
      ],
      "metadata": {
        "id": "RpzQMSMwlOcx"
      }
    },
    {
      "cell_type": "markdown",
      "source": [
        "**Answer: (C) llolo, W**"
      ],
      "metadata": {
        "id": "M5vawKinlQZo"
      }
    },
    {
      "cell_type": "code",
      "source": [
        "a = \"Hello, World!\"\n",
        "print(a[2:5]+ a[3:8])"
      ],
      "metadata": {
        "colab": {
          "base_uri": "https://localhost:8080/"
        },
        "id": "IfgPonrMli8Y",
        "outputId": "7465309d-79d8-41eb-e2a6-fe26c8b4b283"
      },
      "execution_count": 14,
      "outputs": [
        {
          "output_type": "stream",
          "name": "stdout",
          "text": [
            "llolo, W\n"
          ]
        }
      ]
    },
    {
      "cell_type": "markdown",
      "source": [
        "# **10**"
      ],
      "metadata": {
        "id": "74JRzQqUlmEA"
      }
    },
    {
      "cell_type": "markdown",
      "source": [
        "**Answer: (A) (len (a))**"
      ],
      "metadata": {
        "id": "Kr0quwuNlnSY"
      }
    },
    {
      "cell_type": "code",
      "source": [
        "a = \"Hello, Pythonian!\"\n",
        "print (len (a))"
      ],
      "metadata": {
        "colab": {
          "base_uri": "https://localhost:8080/"
        },
        "id": "RqXDNZnvlqyQ",
        "outputId": "4f6fbcad-01f4-471b-c638-92a818a23c04"
      },
      "execution_count": 15,
      "outputs": [
        {
          "output_type": "stream",
          "name": "stdout",
          "text": [
            "17\n"
          ]
        }
      ]
    },
    {
      "cell_type": "markdown",
      "source": [
        "# **11**"
      ],
      "metadata": {
        "id": "AimrtZPAl3eo"
      }
    },
    {
      "cell_type": "markdown",
      "source": [
        "**Answer: (D) [ 'b' , 'c' , 'd' , 'e' ]**"
      ],
      "metadata": {
        "id": "dlmyvaGrl7LA"
      }
    },
    {
      "cell_type": "code",
      "source": [
        "list = [ ' a ' ,  ' b ' ,  ' c ' ,  ' d ' ,  ' e ' ]\n",
        "print (list [ 1 : ])"
      ],
      "metadata": {
        "colab": {
          "base_uri": "https://localhost:8080/"
        },
        "id": "BGlVf0Djl8f_",
        "outputId": "698c34be-c9e0-450e-a223-1d5ae01eb763"
      },
      "execution_count": 16,
      "outputs": [
        {
          "output_type": "stream",
          "name": "stdout",
          "text": [
            "[' b ', ' c ', ' d ', ' e ']\n"
          ]
        }
      ]
    },
    {
      "cell_type": "markdown",
      "source": [
        "# **12**"
      ],
      "metadata": {
        "id": "DZ41yLf_l_jY"
      }
    },
    {
      "cell_type": "markdown",
      "source": [
        "**Answer: (C) 11**"
      ],
      "metadata": {
        "id": "Jh_X2nNCmAx4"
      }
    },
    {
      "cell_type": "code",
      "source": [
        "L1 = [ ]\n",
        "L1.append ( [1, [2, 3], 4] )\n",
        "L1.extend ( [7, 8, 9] )\n",
        "print(L1[0][1][1] + L1[2] )"
      ],
      "metadata": {
        "colab": {
          "base_uri": "https://localhost:8080/"
        },
        "id": "7KCOf6qrmDzf",
        "outputId": "a2f8a22f-264e-41a7-97db-d2428c011489"
      },
      "execution_count": 17,
      "outputs": [
        {
          "output_type": "stream",
          "name": "stdout",
          "text": [
            "11\n"
          ]
        }
      ]
    },
    {
      "cell_type": "markdown",
      "source": [
        "# **13**"
      ],
      "metadata": {
        "id": "IqkKN-EBmHLj"
      }
    },
    {
      "cell_type": "markdown",
      "source": [
        "**Answer: (D) in**"
      ],
      "metadata": {
        "id": "0c2zOQS7mIgQ"
      }
    },
    {
      "cell_type": "code",
      "source": [
        "txt = \"The best things in life are free!\"\n",
        "print(\"free\" in txt)"
      ],
      "metadata": {
        "colab": {
          "base_uri": "https://localhost:8080/"
        },
        "id": "Q3ZS2pHDmOb4",
        "outputId": "92a2f35f-4afd-4ea8-f62b-b6a8c50a2e88"
      },
      "execution_count": 18,
      "outputs": [
        {
          "output_type": "stream",
          "name": "stdout",
          "text": [
            "True\n"
          ]
        }
      ]
    },
    {
      "cell_type": "markdown",
      "source": [
        "# **14**"
      ],
      "metadata": {
        "id": "V1jp_izMmRhn"
      }
    },
    {
      "cell_type": "markdown",
      "source": [
        "**Answer: (D) first=[1, 2, 3, 4, 5, 6], second=[1, 2, 3, 4, 5, 6]**"
      ],
      "metadata": {
        "id": "Z4a17IDjmTJw"
      }
    },
    {
      "cell_type": "code",
      "source": [
        "first = [1 , 2 , 3 , 4 , 5]\n",
        "second = first\n",
        "second.append (6)\n",
        "print(first)\n",
        "print(second)"
      ],
      "metadata": {
        "colab": {
          "base_uri": "https://localhost:8080/"
        },
        "id": "gBKGm3t-mWD4",
        "outputId": "4202541b-8e9a-4bb7-e898-5552601ea99c"
      },
      "execution_count": 19,
      "outputs": [
        {
          "output_type": "stream",
          "name": "stdout",
          "text": [
            "[1, 2, 3, 4, 5, 6]\n",
            "[1, 2, 3, 4, 5, 6]\n"
          ]
        }
      ]
    },
    {
      "cell_type": "markdown",
      "source": [
        "# **18**"
      ],
      "metadata": {
        "id": "WmulCgU-md_I"
      }
    },
    {
      "cell_type": "code",
      "source": [
        "mylist = [\"apple\", \"banana\", \"cherry\"]\n",
        "mylist.insert(1, \"orange\")   \n",
        "print(mylist)"
      ],
      "metadata": {
        "colab": {
          "base_uri": "https://localhost:8080/"
        },
        "id": "YtGJWLhVmjcA",
        "outputId": "6391ddb2-1746-4992-c002-0c8e6599b498"
      },
      "execution_count": 20,
      "outputs": [
        {
          "output_type": "stream",
          "name": "stdout",
          "text": [
            "['apple', 'orange', 'banana', 'cherry']\n"
          ]
        }
      ]
    },
    {
      "cell_type": "markdown",
      "source": [
        "# **21**"
      ],
      "metadata": {
        "id": "dGmbbkjYmlVK"
      }
    },
    {
      "cell_type": "markdown",
      "source": [
        "**Answer: (A) 1 2 3**"
      ],
      "metadata": {
        "id": "4HSl9yHHmnYw"
      }
    },
    {
      "cell_type": "code",
      "source": [
        "i = 1\n",
        "while i < 6:\n",
        "  print(i)\n",
        "  if (i == 3):\n",
        "    break\n",
        "  i += 1"
      ],
      "metadata": {
        "colab": {
          "base_uri": "https://localhost:8080/"
        },
        "id": "oTBXLfP-mtlQ",
        "outputId": "c261ce6a-5b3e-4750-ecf7-6ebb137d0b33"
      },
      "execution_count": 21,
      "outputs": [
        {
          "output_type": "stream",
          "name": "stdout",
          "text": [
            "1\n",
            "2\n",
            "3\n"
          ]
        }
      ]
    },
    {
      "cell_type": "markdown",
      "source": [
        "# **22**"
      ],
      "metadata": {
        "id": "8T8q7HMnm0qv"
      }
    },
    {
      "cell_type": "markdown",
      "source": [
        "***Answer: (C) 1 2 3 4 5 6 ***"
      ],
      "metadata": {
        "id": "GcdoQohZm3Wh"
      }
    },
    {
      "cell_type": "code",
      "source": [
        "i = 0\n",
        "while i < 6:\n",
        "  i += 1\n",
        "  if i == 3:\n",
        "    continue\n",
        "  print(i)"
      ],
      "metadata": {
        "colab": {
          "base_uri": "https://localhost:8080/"
        },
        "id": "pyuK6HNbm7Sj",
        "outputId": "a2003cba-91d0-47ca-8bc4-6817a7d79b07"
      },
      "execution_count": 22,
      "outputs": [
        {
          "output_type": "stream",
          "name": "stdout",
          "text": [
            "1\n",
            "2\n",
            "4\n",
            "5\n",
            "6\n"
          ]
        }
      ]
    },
    {
      "cell_type": "markdown",
      "source": [
        "# **24**"
      ],
      "metadata": {
        "id": "yH1yBWzUnBqI"
      }
    },
    {
      "cell_type": "markdown",
      "source": [
        "**Answer: (E) 24**"
      ],
      "metadata": {
        "id": "7FJDMnC1nC6X"
      }
    },
    {
      "cell_type": "code",
      "source": [
        "r = lambda q: q * 2\n",
        "s = lambda q: q * 3\n",
        "x = 2\n",
        "x = r (x)\n",
        "x = s (x)\n",
        "x = r (x)\n",
        "print (x)"
      ],
      "metadata": {
        "colab": {
          "base_uri": "https://localhost:8080/"
        },
        "id": "x67RYew5nF8Y",
        "outputId": "9314a6cd-1a9e-4c49-e292-3233d1e7ef73"
      },
      "execution_count": 23,
      "outputs": [
        {
          "output_type": "stream",
          "name": "stdout",
          "text": [
            "24\n"
          ]
        }
      ]
    },
    {
      "cell_type": "markdown",
      "source": [
        "# **25**"
      ],
      "metadata": {
        "id": "nzKaFGMUnJ3w"
      }
    },
    {
      "cell_type": "markdown",
      "source": [
        "**Answer: (D) 21**"
      ],
      "metadata": {
        "id": "8VpjpzPmnLKq"
      }
    },
    {
      "cell_type": "code",
      "source": [
        "def tri_recursion(k):\n",
        "  if(k > 0):\n",
        "    result = k + tri_recursion(k - 1)\n",
        "    print(result)\n",
        "  else:\n",
        "    result = 0\n",
        "  return result\n",
        "\n",
        "print(\"\\n\\nRecursion Example Results\")\n",
        "tri_recursion(6)"
      ],
      "metadata": {
        "colab": {
          "base_uri": "https://localhost:8080/"
        },
        "id": "zYoyx1FynN4A",
        "outputId": "8a94f2f0-a268-40d9-9f69-247a87670c9a"
      },
      "execution_count": 24,
      "outputs": [
        {
          "output_type": "stream",
          "name": "stdout",
          "text": [
            "\n",
            "\n",
            "Recursion Example Results\n",
            "1\n",
            "3\n",
            "6\n",
            "10\n",
            "15\n",
            "21\n"
          ]
        },
        {
          "output_type": "execute_result",
          "data": {
            "text/plain": [
              "21"
            ]
          },
          "metadata": {},
          "execution_count": 24
        }
      ]
    }
  ]
}